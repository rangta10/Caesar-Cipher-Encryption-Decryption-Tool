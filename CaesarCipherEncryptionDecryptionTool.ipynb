{
  "nbformat": 4,
  "nbformat_minor": 0,
  "metadata": {
    "colab": {
      "provenance": []
    },
    "kernelspec": {
      "name": "python3",
      "display_name": "Python 3"
    },
    "language_info": {
      "name": "python"
    }
  },
  "cells": [
    {
      "cell_type": "code",
      "execution_count": null,
      "metadata": {
        "colab": {
          "base_uri": "https://localhost:8080/"
        },
        "id": "To9dP0zQ7h3f",
        "outputId": "46187232-d7dd-496f-e125-c642b929ef3a"
      },
      "outputs": [
        {
          "output_type": "stream",
          "name": "stdout",
          "text": [
            "Caesar Cipher Encryption/Decryption Tool\n",
            "Enter 'quit' to exit.\n",
            "\n",
            "Choose action (encrypt/decrypt/quit): encrypt\n",
            "Enter the text: roel crysti\n",
            "Enter the key (1-25): 10\n",
            "\n",
            "Encrypted Text: byov mbicds\n",
            "\n",
            "Choose action (encrypt/decrypt/quit): decrypt\n",
            "Enter the text: byov mbicds\n",
            "Enter the key (1-25): 10\n",
            "\n",
            "Decrypted Text: roel crysti\n",
            "\n",
            "Choose action (encrypt/decrypt/quit): byov mbicds\n",
            "Invalid action. Please choose 'encrypt', 'decrypt', or 'quit'.\n",
            "\n",
            "Choose action (encrypt/decrypt/quit): decrypt\n",
            "Enter the text: 1\n",
            "Enter the key (1-25): 2\n",
            "\n",
            "Decrypted Text: 1\n",
            "\n",
            "Choose action (encrypt/decrypt/quit): decrypt\n",
            "Enter the text: byov mbicds\n",
            "Enter the key (1-25): 1\n",
            "\n",
            "Decrypted Text: axnu lahbcr\n"
          ]
        }
      ],
      "source": [
        "def caesar_encrypt(text, key):\n",
        "    \"\"\"\n",
        "    Encrypts the input text using Caesar Cipher with the given key.\n",
        "    Shifts each letter by 'key' positions, preserving case and non-letters.\n",
        "    \"\"\"\n",
        "    encrypted_text = \"\"\n",
        "    for char in text:\n",
        "        if char.isalpha():\n",
        "            # Determine the ASCII base (97 for lowercase, 65 for uppercase)\n",
        "            ascii_base = 65 if char.isupper() else 97\n",
        "            # Shift the character and wrap around the alphabet (mod 26)\n",
        "            shifted = (ord(char) - ascii_base + key) % 26 + ascii_base\n",
        "            encrypted_text += chr(shifted)\n",
        "        else:\n",
        "            # Preserve non-alphabetic characters (spaces, punctuation)\n",
        "            encrypted_text += char\n",
        "    return encrypted_text\n",
        "\n",
        "def caesar_decrypt(text, key):\n",
        "    \"\"\"\n",
        "    Decrypts the input text using Caesar Cipher with the given key.\n",
        "    Simply reverses the encryption by shifting backwards.\n",
        "    \"\"\"\n",
        "    return caesar_encrypt(text, -key)\n",
        "\n",
        "def main():\n",
        "    \"\"\"\n",
        "    Main function to run the Caesar Cipher tool with a CLI interface.\n",
        "    Allows users to encrypt or decrypt text with a specified key.\n",
        "    \"\"\"\n",
        "    print(\"Caesar Cipher Encryption/Decryption Tool\")\n",
        "    print(\"Enter 'quit' to exit.\")\n",
        "\n",
        "    while True:\n",
        "        action = input(\"\\nChoose action (encrypt/decrypt/quit): \").lower().strip()\n",
        "\n",
        "        if action == 'quit':\n",
        "            print(\"Exiting Caesar Cipher Tool. Goodbye!\")\n",
        "            break\n",
        "\n",
        "        if action not in ['encrypt', 'decrypt']:\n",
        "            print(\"Invalid action. Please choose 'encrypt', 'decrypt', or 'quit'.\")\n",
        "            continue\n",
        "\n",
        "        text = input(\"Enter the text: \").strip()\n",
        "        if not text:\n",
        "            print(\"Text cannot be empty. Try again.\")\n",
        "            continue\n",
        "\n",
        "        try:\n",
        "            key = int(input(\"Enter the key (1-25): \").strip())\n",
        "            if key < 1 or key > 25:\n",
        "                print(\"Key must be between 1 and 25. Try again.\")\n",
        "                continue\n",
        "        except ValueError:\n",
        "            print(\"Invalid key. Please enter a number between 1 and 25.\")\n",
        "            continue\n",
        "\n",
        "        if action == 'encrypt':\n",
        "            result = caesar_encrypt(text, key)\n",
        "            print(f\"\\nEncrypted Text: {result}\")\n",
        "        else:  # action == 'decrypt'\n",
        "            result = caesar_decrypt(text, key)\n",
        "            print(f\"\\nDecrypted Text: {result}\")\n",
        "\n",
        "if __name__ == \"__main__\":\n",
        "    main()"
      ]
    }
  ]
}